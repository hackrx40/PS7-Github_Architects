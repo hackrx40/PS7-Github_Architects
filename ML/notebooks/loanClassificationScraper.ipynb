{
 "cells": [
  {
   "cell_type": "code",
   "execution_count": 1,
   "metadata": {},
   "outputs": [],
   "source": [
    "import requests\n",
    "import pandas as pd\n",
    "import numpy as np\n",
    "import re\n",
    "import nltk\n",
    "from nltk.corpus import stopwords\n",
    "from nltk.stem import WordNetLemmatizer\n",
    "# nltk.download('stopwords')\n",
    "# nltk.download('wordnet')"
   ]
  },
  {
   "cell_type": "code",
   "execution_count": 11,
   "metadata": {},
   "outputs": [
    {
     "data": {
      "text/html": [
       "<div>\n",
       "<style scoped>\n",
       "    .dataframe tbody tr th:only-of-type {\n",
       "        vertical-align: middle;\n",
       "    }\n",
       "\n",
       "    .dataframe tbody tr th {\n",
       "        vertical-align: top;\n",
       "    }\n",
       "\n",
       "    .dataframe thead th {\n",
       "        text-align: right;\n",
       "    }\n",
       "</style>\n",
       "<table border=\"1\" class=\"dataframe\">\n",
       "  <thead>\n",
       "    <tr style=\"text-align: right;\">\n",
       "      <th></th>\n",
       "      <th>Lang</th>\n",
       "      <th>Text</th>\n",
       "      <th>label</th>\n",
       "    </tr>\n",
       "  </thead>\n",
       "  <tbody>\n",
       "  </tbody>\n",
       "</table>\n",
       "</div>"
      ],
      "text/plain": [
       "Empty DataFrame\n",
       "Columns: [Lang, Text, label]\n",
       "Index: []"
      ]
     },
     "execution_count": 11,
     "metadata": {},
     "output_type": "execute_result"
    }
   ],
   "source": [
    "df = pd.read_csv(\"../data/loanData.csv\")\n",
    "df.head()"
   ]
  },
  {
   "cell_type": "code",
   "execution_count": 12,
   "metadata": {},
   "outputs": [],
   "source": [
    "def store_to_csv(keyword, count, cls):\n",
    "    url = 'http://127.0.0.1:8000/tweets/'\n",
    "    obj = {\n",
    "        \"keyword\": keyword,\n",
    "        \"count\": count\n",
    "        }\n",
    "\n",
    "    r = requests.post(url, json=obj)\n",
    "    data = r.json()\n",
    "    tweets = data['tweets']\n",
    "    for tweet in tweets:\n",
    "        temp = [tweet['lang'], tweet['full_text'], cls]\n",
    "        df.loc[len(df.index)] = temp\n",
    "    \n",
    "    return len(df)"
   ]
  },
  {
   "cell_type": "code",
   "execution_count": 13,
   "metadata": {},
   "outputs": [
    {
     "data": {
      "text/plain": [
       "1196"
      ]
     },
     "execution_count": 13,
     "metadata": {},
     "output_type": "execute_result"
    }
   ],
   "source": [
    "store_to_csv(\"home loan\", 300, \"home\")\n",
    "store_to_csv(\"lic home loan\", 300, \"home\")\n",
    "store_to_csv(\"sbi home loan\", 300, \"home\")\n",
    "store_to_csv(\"icici home loan\", 300, \"home\")\n",
    "store_to_csv(\"hdfc home loan\", 300, \"home\")\n",
    "store_to_csv(\"bajaj home loan\", 300, \"home\")\n",
    "store_to_csv(\"car loan\", 300, \"car\")\n",
    "store_to_csv(\"icici car loan\", 300, \"car\")\n",
    "store_to_csv(\"sbi car loan\", 300, \"car\")\n",
    "store_to_csv(\"hdfc car loan\", 300, \"car\")\n",
    "store_to_csv(\"business loan\", 300, \"business\")\n",
    "store_to_csv(\"induslin bank business loan\", 300, \"business\")\n",
    "store_to_csv(\"yes bank business loan\", 300, \"business\")\n",
    "store_to_csv(\"sbi business loan\", 300, \"business\")\n",
    "store_to_csv(\"hdfc business loan\", 300, \"business\")\n",
    "store_to_csv(\"icici business loan\", 300, \"business\")\n",
    "store_to_csv(\"student loan\", 300, \"student\")\n",
    "store_to_csv(\"hdfc student loan\", 300, \"student\")\n",
    "store_to_csv(\"icici student loan\", 300, \"student\")\n",
    "store_to_csv(\"sbi student loan\", 300, \"student\")\n",
    "store_to_csv(\"yes bank student loan\", 300, \"student\")\n",
    "store_to_csv(\"personal loan\", 300, \"personal\")\n",
    "store_to_csv(\"icici personal loan\", 300, \"personal\")\n",
    "store_to_csv(\"hdfc personal loan\", 300, \"personal\")\n",
    "store_to_csv(\"sbi personal loan\", 300, \"personal\")\n",
    "store_to_csv(\"axis bank personal loan\", 300, \"personal\")\n",
    "store_to_csv(\"motor loan\", 300, \"motor\")\n",
    "store_to_csv(\"yes bank motor loan\", 300, \"motor\")\n",
    "store_to_csv(\"hdfc motor loan\", 300, \"motor\")\n",
    "store_to_csv(\"icici motor loan\", 300, \"motor\")\n",
    "store_to_csv(\"sbi motor loan\", 300, \"motor\")\n",
    "store_to_csv(\"induslin bank motor loan\", 300, \"motor\")\n"
   ]
  },
  {
   "cell_type": "code",
   "execution_count": 14,
   "metadata": {},
   "outputs": [
    {
     "name": "stderr",
     "output_type": "stream",
     "text": [
      "C:\\Users\\ayush\\AppData\\Local\\Temp\\ipykernel_14352\\4169525749.py:12: SettingWithCopyWarning: \n",
      "A value is trying to be set on a copy of a slice from a DataFrame\n",
      "\n",
      "See the caveats in the documentation: https://pandas.pydata.org/pandas-docs/stable/user_guide/indexing.html#returning-a-view-versus-a-copy\n",
      "  new_df.drop_duplicates(inplace=True)\n"
     ]
    }
   ],
   "source": [
    "df = df.sample(frac=1)\n",
    "df.reset_index(drop=True,inplace=True)\n",
    "for i in range(len(df)):\n",
    "    txt = re.sub('[^a-zA-Z]', ' ', df['Text'][i])\n",
    "    txt = txt.lower()\n",
    "    txt = txt.split()\n",
    "    wl = WordNetLemmatizer()\n",
    "    txt = [wl.lemmatize(word) for word in txt if not word in set(stopwords.words('english'))]\n",
    "    txt = ' '.join(txt)\n",
    "    df['Text'][i] = txt\n",
    "new_df = df[df['Lang'] == 'en']\n",
    "new_df.drop_duplicates(inplace=True)"
   ]
  },
  {
   "cell_type": "code",
   "execution_count": 15,
   "metadata": {},
   "outputs": [],
   "source": [
    "new_df.to_csv('../data/loanData.csv', index=False)"
   ]
  },
  {
   "cell_type": "code",
   "execution_count": 17,
   "metadata": {},
   "outputs": [
    {
     "data": {
      "text/html": [
       "<div>\n",
       "<style scoped>\n",
       "    .dataframe tbody tr th:only-of-type {\n",
       "        vertical-align: middle;\n",
       "    }\n",
       "\n",
       "    .dataframe tbody tr th {\n",
       "        vertical-align: top;\n",
       "    }\n",
       "\n",
       "    .dataframe thead th {\n",
       "        text-align: right;\n",
       "    }\n",
       "</style>\n",
       "<table border=\"1\" class=\"dataframe\">\n",
       "  <thead>\n",
       "    <tr style=\"text-align: right;\">\n",
       "      <th></th>\n",
       "      <th>Lang</th>\n",
       "      <th>Text</th>\n",
       "      <th>label</th>\n",
       "    </tr>\n",
       "  </thead>\n",
       "  <tbody>\n",
       "    <tr>\n",
       "      <th>1</th>\n",
       "      <td>en</td>\n",
       "      <td>hdfcbank care certainly texting anything dm mu...</td>\n",
       "      <td>home</td>\n",
       "    </tr>\n",
       "    <tr>\n",
       "      <th>3</th>\n",
       "      <td>en</td>\n",
       "      <td>poornimanimo got call someone saying calling h...</td>\n",
       "      <td>personal</td>\n",
       "    </tr>\n",
       "    <tr>\n",
       "      <th>4</th>\n",
       "      <td>en</td>\n",
       "      <td>hi apologize behalf hdfc bank care sorry conce...</td>\n",
       "      <td>personal</td>\n",
       "    </tr>\n",
       "    <tr>\n",
       "      <th>5</th>\n",
       "      <td>en</td>\n",
       "      <td>rt whitehouse unfortunate see senator want con...</td>\n",
       "      <td>student</td>\n",
       "    </tr>\n",
       "    <tr>\n",
       "      <th>6</th>\n",
       "      <td>en</td>\n",
       "      <td>bajaj finserv foreclosure letter generation sa...</td>\n",
       "      <td>home</td>\n",
       "    </tr>\n",
       "  </tbody>\n",
       "</table>\n",
       "</div>"
      ],
      "text/plain": [
       "  Lang                                               Text     label\n",
       "1   en  hdfcbank care certainly texting anything dm mu...      home\n",
       "3   en  poornimanimo got call someone saying calling h...  personal\n",
       "4   en  hi apologize behalf hdfc bank care sorry conce...  personal\n",
       "5   en  rt whitehouse unfortunate see senator want con...   student\n",
       "6   en  bajaj finserv foreclosure letter generation sa...      home"
      ]
     },
     "execution_count": 17,
     "metadata": {},
     "output_type": "execute_result"
    }
   ],
   "source": [
    "new_df.head()"
   ]
  },
  {
   "cell_type": "code",
   "execution_count": null,
   "metadata": {},
   "outputs": [],
   "source": []
  }
 ],
 "metadata": {
  "kernelspec": {
   "display_name": "env",
   "language": "python",
   "name": "python3"
  },
  "language_info": {
   "codemirror_mode": {
    "name": "ipython",
    "version": 3
   },
   "file_extension": ".py",
   "mimetype": "text/x-python",
   "name": "python",
   "nbconvert_exporter": "python",
   "pygments_lexer": "ipython3",
   "version": "3.10.9"
  },
  "orig_nbformat": 4
 },
 "nbformat": 4,
 "nbformat_minor": 2
}
