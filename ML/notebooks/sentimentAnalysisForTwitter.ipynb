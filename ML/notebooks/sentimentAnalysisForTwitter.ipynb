{
 "cells": [
  {
   "cell_type": "markdown",
   "id": "2298be38",
   "metadata": {},
   "source": [
    "data link - https://raw.githubusercontent.com/laxmimerit/twitter-data/master/twitt30k.csv"
   ]
  },
  {
   "cell_type": "code",
   "execution_count": 1,
   "id": "0f066aeb",
   "metadata": {},
   "outputs": [],
   "source": [
    "import pandas as pd\n",
    "import numpy as np\n",
    "from sklearn.svm import LinearSVC\n",
    "from sklearn.metrics import classification_report ,confusion_matrix,accuracy_score\n",
    "from sklearn.model_selection import train_test_split\n",
    "from sklearn.feature_extraction.text import TfidfVectorizer"
   ]
  },
  {
   "cell_type": "code",
   "execution_count": 2,
   "id": "ac1c9269",
   "metadata": {},
   "outputs": [],
   "source": [
    "df=pd.read_csv(r'https://raw.githubusercontent.com/laxmimerit/twitter-data/master/twitt30k.csv')"
   ]
  },
  {
   "cell_type": "markdown",
   "id": "9fb14316",
   "metadata": {},
   "source": [
    "model training"
   ]
  },
  {
   "cell_type": "code",
   "execution_count": 3,
   "id": "1c10504e",
   "metadata": {},
   "outputs": [],
   "source": [
    "def run_svm(df):\n",
    "    x=df['twitts']\n",
    "    y=df['sentiment']\n",
    "\n",
    "    tfidf=TfidfVectorizer()\n",
    "    x=tfidf.fit_transform(x)\n",
    "\n",
    "    xtrain,xtest,ytrain,ytest=train_test_split(x,y,test_size=0.2,random_state=0,stratify=y)\n",
    "\n",
    "    clf=LinearSVC()\n",
    "    clf.fit(xtrain,ytrain)\n",
    "    ypred=clf.predict(xtest)\n",
    "    print(classification_report(ytest,ypred))\n",
    "    return tfidf,clf"
   ]
  },
  {
   "cell_type": "code",
   "execution_count": 4,
   "id": "3c59299e",
   "metadata": {},
   "outputs": [
    {
     "name": "stdout",
     "output_type": "stream",
     "text": [
      "              precision    recall  f1-score   support\n",
      "\n",
      "           0       0.75      0.74      0.75      3000\n",
      "           1       0.74      0.75      0.75      3000\n",
      "\n",
      "    accuracy                           0.75      6000\n",
      "   macro avg       0.75      0.75      0.75      6000\n",
      "weighted avg       0.75      0.75      0.75      6000\n",
      "\n"
     ]
    },
    {
     "name": "stderr",
     "output_type": "stream",
     "text": [
      "d:\\Projects\\HackRx4.0\\env\\lib\\site-packages\\sklearn\\svm\\_classes.py:32: FutureWarning: The default value of `dual` will change from `True` to `'auto'` in 1.5. Set the value of `dual` explicitly to suppress the warning.\n",
      "  warnings.warn(\n"
     ]
    }
   ],
   "source": [
    "tfidf,clf=run_svm(df)"
   ]
  },
  {
   "cell_type": "code",
   "execution_count": 5,
   "id": "558f1e78",
   "metadata": {},
   "outputs": [
    {
     "data": {
      "text/plain": [
       "array([1], dtype=int64)"
      ]
     },
     "execution_count": 5,
     "metadata": {},
     "output_type": "execute_result"
    }
   ],
   "source": [
    "s=['you made me happy']\n",
    "clf.predict(tfidf.transform(s))"
   ]
  },
  {
   "cell_type": "markdown",
   "id": "73e44009",
   "metadata": {},
   "source": [
    "FINE TUNING SVM MODEL"
   ]
  },
  {
   "cell_type": "code",
   "execution_count": 6,
   "id": "63d9a3a0",
   "metadata": {},
   "outputs": [
    {
     "name": "stderr",
     "output_type": "stream",
     "text": [
      "d:\\Projects\\HackRx4.0\\env\\lib\\site-packages\\sklearn\\svm\\_classes.py:32: FutureWarning: The default value of `dual` will change from `True` to `'auto'` in 1.5. Set the value of `dual` explicitly to suppress the warning.\n",
      "  warnings.warn(\n"
     ]
    },
    {
     "name": "stdout",
     "output_type": "stream",
     "text": [
      "              precision    recall  f1-score   support\n",
      "\n",
      "           0       0.76      0.75      0.76      3000\n",
      "           1       0.75      0.76      0.76      3000\n",
      "\n",
      "    accuracy                           0.76      6000\n",
      "   macro avg       0.76      0.76      0.76      6000\n",
      "weighted avg       0.76      0.76      0.76      6000\n",
      "\n"
     ]
    },
    {
     "data": {
      "text/plain": [
       "(TfidfVectorizer(analyzer='char', max_features=5000, ngram_range=(1, 7)),\n",
       " LinearSVC())"
      ]
     },
     "execution_count": 6,
     "metadata": {},
     "output_type": "execute_result"
    }
   ],
   "source": [
    "def run_svm(df):\n",
    "    x=df['twitts']\n",
    "    y=df['sentiment']\n",
    "\n",
    "    tfidf=TfidfVectorizer(norm='l2',ngram_range=(1,7),analyzer='char',max_features=5000)\n",
    "    x=tfidf.fit_transform(x)\n",
    "\n",
    "    xtrain,xtest,ytrain,ytest=train_test_split(x,y,test_size=0.2,random_state=0,stratify=y)\n",
    "\n",
    "    clf=LinearSVC()\n",
    "    clf.fit(xtrain,ytrain)\n",
    "    ypred=clf.predict(xtest)\n",
    "    print(classification_report(ytest,ypred))\n",
    "    return tfidf,clf\n",
    "run_svm(df)"
   ]
  },
  {
   "cell_type": "code",
   "execution_count": 7,
   "id": "48dda762",
   "metadata": {},
   "outputs": [],
   "source": [
    "import pickle as pkl"
   ]
  },
  {
   "cell_type": "code",
   "execution_count": 8,
   "id": "cd034417",
   "metadata": {},
   "outputs": [],
   "source": [
    "pkl.dump(clf,open('../models/tweet_clf.pkl','wb'))\n",
    "pkl.dump(tfidf,open('../models/tweet_tfidf.pkl','wb'))"
   ]
  },
  {
   "cell_type": "code",
   "execution_count": 9,
   "id": "0a786831",
   "metadata": {},
   "outputs": [],
   "source": [
    "del clf"
   ]
  },
  {
   "cell_type": "code",
   "execution_count": 10,
   "id": "3459175a",
   "metadata": {},
   "outputs": [],
   "source": [
    "del tfidf"
   ]
  },
  {
   "cell_type": "code",
   "execution_count": 11,
   "id": "ab3c2c2a",
   "metadata": {},
   "outputs": [
    {
     "data": {
      "text/plain": [
       "array([1], dtype=int64)"
      ]
     },
     "execution_count": 11,
     "metadata": {},
     "output_type": "execute_result"
    }
   ],
   "source": [
    "clf=pkl.load(open('../models/tweet_clf.pkl','rb'))\n",
    "tfidf=pkl.load(open('../models/tweet_tfidf.pkl','rb'))\n",
    "\n",
    "s=['happy']\n",
    "clf.predict(tfidf.transform(s))"
   ]
  },
  {
   "cell_type": "code",
   "execution_count": null,
   "id": "27681236",
   "metadata": {},
   "outputs": [],
   "source": []
  }
 ],
 "metadata": {
  "kernelspec": {
   "display_name": "Python 3 (ipykernel)",
   "language": "python",
   "name": "python3"
  },
  "language_info": {
   "codemirror_mode": {
    "name": "ipython",
    "version": 3
   },
   "file_extension": ".py",
   "mimetype": "text/x-python",
   "name": "python",
   "nbconvert_exporter": "python",
   "pygments_lexer": "ipython3",
   "version": "3.10.9"
  }
 },
 "nbformat": 4,
 "nbformat_minor": 5
}
