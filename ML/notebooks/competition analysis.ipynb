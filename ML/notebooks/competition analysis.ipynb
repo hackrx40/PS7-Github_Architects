{
 "cells": [
  {
   "cell_type": "code",
   "execution_count": 27,
   "id": "f2679bde",
   "metadata": {},
   "outputs": [],
   "source": [
    "import pandas as pd\n",
    "import numpy as np\n",
    "import warnings\n",
    "warnings.filterwarnings(\"ignore\")\n",
    "import pickle as pkl"
   ]
  },
  {
   "cell_type": "code",
   "execution_count": 28,
   "id": "1cb51c45",
   "metadata": {},
   "outputs": [],
   "source": [
    "data=pd.read_csv(r\"../data/competition.csv\")"
   ]
  },
  {
   "cell_type": "code",
   "execution_count": 29,
   "id": "bf268528",
   "metadata": {},
   "outputs": [
    {
     "data": {
      "text/html": [
       "<div>\n",
       "<style scoped>\n",
       "    .dataframe tbody tr th:only-of-type {\n",
       "        vertical-align: middle;\n",
       "    }\n",
       "\n",
       "    .dataframe tbody tr th {\n",
       "        vertical-align: top;\n",
       "    }\n",
       "\n",
       "    .dataframe thead th {\n",
       "        text-align: right;\n",
       "    }\n",
       "</style>\n",
       "<table border=\"1\" class=\"dataframe\">\n",
       "  <thead>\n",
       "    <tr style=\"text-align: right;\">\n",
       "      <th></th>\n",
       "      <th>Lang</th>\n",
       "      <th>Text</th>\n",
       "      <th>label</th>\n",
       "    </tr>\n",
       "  </thead>\n",
       "  <tbody>\n",
       "    <tr>\n",
       "      <th>0</th>\n",
       "      <td>en</td>\n",
       "      <td>rt iciciprulife yorker doosra bouncer surya ku...</td>\n",
       "      <td>icici</td>\n",
       "    </tr>\n",
       "    <tr>\n",
       "      <th>1</th>\n",
       "      <td>en</td>\n",
       "      <td>rt cognizantnews cognizant tie max life insura...</td>\n",
       "      <td>max</td>\n",
       "    </tr>\n",
       "    <tr>\n",
       "      <th>2</th>\n",
       "      <td>en</td>\n",
       "      <td>hibah takaful sun life insurance wasiat faraid...</td>\n",
       "      <td>tata</td>\n",
       "    </tr>\n",
       "    <tr>\n",
       "      <th>3</th>\n",
       "      <td>en</td>\n",
       "      <td>niva bupa niva bupa finally rejected claim sur...</td>\n",
       "      <td>max</td>\n",
       "    </tr>\n",
       "    <tr>\n",
       "      <th>4</th>\n",
       "      <td>en</td>\n",
       "      <td>hdfc life insurance posted net profit r crore ...</td>\n",
       "      <td>hdfc</td>\n",
       "    </tr>\n",
       "    <tr>\n",
       "      <th>...</th>\n",
       "      <td>...</td>\n",
       "      <td>...</td>\n",
       "      <td>...</td>\n",
       "    </tr>\n",
       "    <tr>\n",
       "      <th>574</th>\n",
       "      <td>en</td>\n",
       "      <td>sbilife ashamed penalising year old man keepin...</td>\n",
       "      <td>sbi</td>\n",
       "    </tr>\n",
       "    <tr>\n",
       "      <th>575</th>\n",
       "      <td>en</td>\n",
       "      <td>singhumesh understand concern kindly note sbi ...</td>\n",
       "      <td>sbi</td>\n",
       "    </tr>\n",
       "    <tr>\n",
       "      <th>576</th>\n",
       "      <td>en</td>\n",
       "      <td>ammaradzim got similiar call person claimed pu...</td>\n",
       "      <td>tata</td>\n",
       "    </tr>\n",
       "    <tr>\n",
       "      <th>577</th>\n",
       "      <td>en</td>\n",
       "      <td>iciciprulife extremely dissatisfied service pr...</td>\n",
       "      <td>icici</td>\n",
       "    </tr>\n",
       "    <tr>\n",
       "      <th>578</th>\n",
       "      <td>en</td>\n",
       "      <td>rt singhumesh sbilife theofficialsbi thinking ...</td>\n",
       "      <td>sbi</td>\n",
       "    </tr>\n",
       "  </tbody>\n",
       "</table>\n",
       "<p>579 rows × 3 columns</p>\n",
       "</div>"
      ],
      "text/plain": [
       "    Lang                                               Text  label\n",
       "0     en  rt iciciprulife yorker doosra bouncer surya ku...  icici\n",
       "1     en  rt cognizantnews cognizant tie max life insura...    max\n",
       "2     en  hibah takaful sun life insurance wasiat faraid...   tata\n",
       "3     en  niva bupa niva bupa finally rejected claim sur...    max\n",
       "4     en  hdfc life insurance posted net profit r crore ...   hdfc\n",
       "..   ...                                                ...    ...\n",
       "574   en  sbilife ashamed penalising year old man keepin...    sbi\n",
       "575   en  singhumesh understand concern kindly note sbi ...    sbi\n",
       "576   en  ammaradzim got similiar call person claimed pu...   tata\n",
       "577   en  iciciprulife extremely dissatisfied service pr...  icici\n",
       "578   en  rt singhumesh sbilife theofficialsbi thinking ...    sbi\n",
       "\n",
       "[579 rows x 3 columns]"
      ]
     },
     "execution_count": 29,
     "metadata": {},
     "output_type": "execute_result"
    }
   ],
   "source": [
    "data"
   ]
  },
  {
   "cell_type": "code",
   "execution_count": 30,
   "id": "154a4602",
   "metadata": {},
   "outputs": [
    {
     "data": {
      "text/plain": [
       "label\n",
       "tata     180\n",
       "sbi      153\n",
       "hdfc      82\n",
       "icici     70\n",
       "max       64\n",
       "xl        30\n",
       "Name: count, dtype: int64"
      ]
     },
     "execution_count": 30,
     "metadata": {},
     "output_type": "execute_result"
    }
   ],
   "source": [
    "data[\"label\"].value_counts()"
   ]
  },
  {
   "cell_type": "code",
   "execution_count": 31,
   "id": "e55b4141",
   "metadata": {},
   "outputs": [],
   "source": [
    "data_tata=data[data[\"label\"]==\"tata\"]\n",
    "data_sbi=data[data[\"label\"]==\"sbi\"]\n",
    "data_hdfc=data[data[\"label\"]==\"hdfc\"]\n",
    "data_icici=data[data[\"label\"]==\"icici\"]\n",
    "data_max=data[data[\"label\"]==\"max\"]\n",
    "data_xl=data[data[\"label\"]==\"xl\"]"
   ]
  },
  {
   "cell_type": "code",
   "execution_count": 32,
   "id": "5b8094b8",
   "metadata": {},
   "outputs": [],
   "source": [
    "def intent(s):\n",
    "    s=[s]\n",
    "    intent_model=pkl.load(open('../models/intent_classification.pkl','rb'))\n",
    "    intent_tfidf=pkl.load(open('../models/intent_classification_tfidf.pkl','rb'))\n",
    "    d=intent_model.predict(intent_tfidf.transform(s))\n",
    "    if d[0][0]==1:\n",
    "        return \"enquiry\"\n",
    "    elif d[0][1]==1:\n",
    "        return \"general talk\"\n",
    "    else:\n",
    "        return \"complaint\""
   ]
  },
  {
   "cell_type": "code",
   "execution_count": 33,
   "id": "f805a786",
   "metadata": {},
   "outputs": [],
   "source": [
    "def insurance(s):\n",
    "    insurance_model=pkl.load(open('../models/insurance-classification_model.pkl','rb'))\n",
    "    insurance_tfidf=pkl.load(open('../models/insurance_classification_tfidf.pkl','rb'))\n",
    "    d=insurance_model.predict(insurance_tfidf.transform([s]))\n",
    "    if d[0][0]==1:\n",
    "        return \"home\"\n",
    "    elif d[0][1]==1:\n",
    "        return \"life\"\n",
    "    elif d[0][2]==1:\n",
    "        return \"motor\"\n",
    "    elif d[0][3]==1:\n",
    "        return \"travel\"\n",
    "    else:\n",
    "        return \"health\""
   ]
  },
  {
   "cell_type": "code",
   "execution_count": 34,
   "id": "2fc61d2c",
   "metadata": {},
   "outputs": [],
   "source": [
    "def service(s):\n",
    "    service_model=pkl.load(open('../models/service_model.pkl','rb'))\n",
    "    service_tfidf=pkl.load(open('../models/service_model_tfidf.pkl','rb'))\n",
    "    d=service_model.predict(service_tfidf.transform([s]))\n",
    "    if d[0][0]==1:\n",
    "        return \"emi\"\n",
    "    elif d[0][1]==1:\n",
    "        return \"insurance\"\n",
    "    elif d[0][2]==1:\n",
    "        return \"investment\"\n",
    "    elif d[0][3]==1:\n",
    "        return \"loan\"\n",
    "    elif d[0][4]==1:\n",
    "        return \"savings\"\n",
    "    else:\n",
    "        return \"card\""
   ]
  },
  {
   "cell_type": "code",
   "execution_count": 35,
   "id": "da370bf7",
   "metadata": {},
   "outputs": [],
   "source": [
    "def sentiment(s):\n",
    "    sentiment_model=pkl.load(open('../models/sentiment_clf.pkl','rb'))\n",
    "    sentiment_tfidf=pkl.load(open('../models/sentiment_tfidf.pkl','rb'))\n",
    "    d=sentiment_model.predict(sentiment_tfidf.transform([s]))\n",
    "    if d[0]==1:\n",
    "        return \"positive\"\n",
    "    else:\n",
    "        return \"negative\""
   ]
  },
  {
   "cell_type": "code",
   "execution_count": 36,
   "id": "768a5486",
   "metadata": {},
   "outputs": [],
   "source": [
    "data_tata[\"sentiment\"]=data_tata[\"Text\"].apply(lambda x: sentiment(x))\n",
    "data_tata[\"intent\"]=data_tata[\"Text\"].apply(lambda x: intent(x))\n",
    "data_tata[\"service\"]=data_tata[\"Text\"].apply(lambda x: service(x))"
   ]
  },
  {
   "cell_type": "code",
   "execution_count": null,
   "id": "d821c8bc",
   "metadata": {},
   "outputs": [],
   "source": []
  }
 ],
 "metadata": {
  "kernelspec": {
   "display_name": "Python 3 (ipykernel)",
   "language": "python",
   "name": "python3"
  },
  "language_info": {
   "codemirror_mode": {
    "name": "ipython",
    "version": 3
   },
   "file_extension": ".py",
   "mimetype": "text/x-python",
   "name": "python",
   "nbconvert_exporter": "python",
   "pygments_lexer": "ipython3",
   "version": "3.10.9"
  }
 },
 "nbformat": 4,
 "nbformat_minor": 5
}
