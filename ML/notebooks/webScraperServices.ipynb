{
 "cells": [
  {
   "cell_type": "code",
   "execution_count": 3,
   "metadata": {},
   "outputs": [],
   "source": [
    "import requests\n",
    "import pandas as pd\n",
    "import numpy as np\n",
    "import re\n",
    "import nltk\n",
    "from nltk.corpus import stopwords\n",
    "from nltk.stem import WordNetLemmatizer\n",
    "# nltk.download('stopwords')\n",
    "# nltk.download('wordnet')"
   ]
  },
  {
   "cell_type": "code",
   "execution_count": 8,
   "metadata": {},
   "outputs": [
    {
     "data": {
      "text/html": [
       "<div>\n",
       "<style scoped>\n",
       "    .dataframe tbody tr th:only-of-type {\n",
       "        vertical-align: middle;\n",
       "    }\n",
       "\n",
       "    .dataframe tbody tr th {\n",
       "        vertical-align: top;\n",
       "    }\n",
       "\n",
       "    .dataframe thead th {\n",
       "        text-align: right;\n",
       "    }\n",
       "</style>\n",
       "<table border=\"1\" class=\"dataframe\">\n",
       "  <thead>\n",
       "    <tr style=\"text-align: right;\">\n",
       "      <th></th>\n",
       "      <th>Lang</th>\n",
       "      <th>Text</th>\n",
       "      <th>Author</th>\n",
       "      <th>Service</th>\n",
       "    </tr>\n",
       "  </thead>\n",
       "  <tbody>\n",
       "  </tbody>\n",
       "</table>\n",
       "</div>"
      ],
      "text/plain": [
       "Empty DataFrame\n",
       "Columns: [Lang, Text, Author, Service]\n",
       "Index: []"
      ]
     },
     "execution_count": 8,
     "metadata": {},
     "output_type": "execute_result"
    }
   ],
   "source": [
    "df = pd.read_csv('../data/twitterData.csv')\n",
    "df.head()"
   ]
  },
  {
   "cell_type": "code",
   "execution_count": 9,
   "metadata": {},
   "outputs": [],
   "source": [
    "def store_to_csv(keyword, count, cls):\n",
    "    url = 'http://127.0.0.1:8000/tweets/'\n",
    "    obj = {\n",
    "        \"keyword\": keyword,\n",
    "        \"count\": count\n",
    "        }\n",
    "\n",
    "    r = requests.post(url, json=obj)\n",
    "    data = r.json()\n",
    "    tweets = data['tweets']\n",
    "    for tweet in tweets:\n",
    "        temp = [tweet['lang'], tweet['full_text'], tweet['user']['screen_name'], cls]\n",
    "        df.loc[len(df.index)] = temp\n",
    "    \n",
    "    return len(df)"
   ]
  },
  {
   "cell_type": "code",
   "execution_count": null,
   "metadata": {},
   "outputs": [],
   "source": [
    "store_to_csv('credit card axis bank', 50, 'card')\n",
    "store_to_csv('debit card axis bank', 50, 'card')\n",
    "store_to_csv('credit card hdfc bank', 50, 'card')\n",
    "store_to_csv('debit card hdfc bank', 50, 'card')\n",
    "store_to_csv('credit card icici bank', 50, 'card')\n",
    "store_to_csv('debit card icici bank', 50, 'card')\n",
    "store_to_csv('credit card sbi bank', 50, 'card')\n",
    "store_to_csv('debit card sbi bank', 50, 'card')\n",
    "store_to_csv('credit card induslin bank', 50, 'card')\n",
    "store_to_csv('credit card american express', 50, 'card')\n",
    "store_to_csv('credit card kotak mahindra', 50, 'card')\n",
    "store_to_csv('loan mahindra finance', 50, 'loan')\n",
    "store_to_csv('loan finance buddha', 50, 'loan')\n",
    "store_to_csv('loan turbo loan', 50, 'loan')\n",
    "store_to_csv('loan canara bank', 50, 'loan')\n",
    "store_to_csv('loan pnb bank', 50, 'loan')\n",
    "store_to_csv('loan uco bank', 50, 'loan')\n",
    "store_to_csv('loan andhra bank', 50, 'loan')\n",
    "store_to_csv('loan hsbc bank', 50, 'loan')\n",
    "store_to_csv('loan icici bank', 50, 'loan')\n",
    "store_to_csv('loan axis bank', 50, 'loan')\n",
    "store_to_csv('loan hdfc bank', 50, 'loan')\n",
    "store_to_csv('loan sbi bank', 50, 'loan')\n",
    "store_to_csv('loan IDBI bank', 50, 'loan')\n",
    "store_to_csv('insurance hdfc', 50, 'insurance')\n",
    "store_to_csv('insurance icici', 50, 'insurance')\n",
    "store_to_csv('insurance LIC', 50, 'insurance')\n",
    "store_to_csv('insurance max', 50, 'insurance')\n",
    "store_to_csv('insurance kotak', 50, 'insurance')\n",
    "store_to_csv('insurance aditya birla', 50, 'insurance')\n",
    "store_to_csv('insurance tata', 50, 'insurance')\n",
    "store_to_csv('insurance sbi', 50, 'insurance')\n",
    "store_to_csv('insurance exide', 50, 'insurance')\n",
    "store_to_csv('insurance pnb', 50, 'insurance')\n",
    "store_to_csv('insurance reliance', 50, 'insurance')\n",
    "store_to_csv('insurance bharti axa', 50, 'insurance')\n",
    "store_to_csv('emi bajaj', 150, 'emi')\n",
    "store_to_csv('loans bajaj', 150, 'loan')\n",
    "store_to_csv('cards bajaj', 150, 'card')\n",
    "store_to_csv('insurance bajaj', 150, 'insurance')\n",
    "store_to_csv('emi', 250, 'emi')\n",
    "store_to_csv('loans', 250, 'loan')\n",
    "store_to_csv('cards', 250, 'card')\n",
    "store_to_csv('insurance', 250, 'insurance')\n",
    "store_to_csv('investment and wealth management', 150, 'investment')\n",
    "store_to_csv('savings and deposit', 150, 'savings')\n",
    "store_to_csv('investment bajaj', 50, 'investment')\n",
    "store_to_csv('savings bajaj', 50, 'savings')"
   ]
  },
  {
   "cell_type": "code",
   "execution_count": 10,
   "metadata": {},
   "outputs": [
    {
     "data": {
      "text/html": [
       "<div>\n",
       "<style scoped>\n",
       "    .dataframe tbody tr th:only-of-type {\n",
       "        vertical-align: middle;\n",
       "    }\n",
       "\n",
       "    .dataframe tbody tr th {\n",
       "        vertical-align: top;\n",
       "    }\n",
       "\n",
       "    .dataframe thead th {\n",
       "        text-align: right;\n",
       "    }\n",
       "</style>\n",
       "<table border=\"1\" class=\"dataframe\">\n",
       "  <thead>\n",
       "    <tr style=\"text-align: right;\">\n",
       "      <th></th>\n",
       "      <th>Lang</th>\n",
       "      <th>Text</th>\n",
       "      <th>Author</th>\n",
       "      <th>Service</th>\n",
       "    </tr>\n",
       "  </thead>\n",
       "  <tbody>\n",
       "  </tbody>\n",
       "</table>\n",
       "</div>"
      ],
      "text/plain": [
       "Empty DataFrame\n",
       "Columns: [Lang, Text, Author, Service]\n",
       "Index: []"
      ]
     },
     "execution_count": 10,
     "metadata": {},
     "output_type": "execute_result"
    }
   ],
   "source": [
    "df = df.sample(frac=1)\n",
    "df.reset_index(drop=True,inplace=True)\n",
    "for i in range(len(df)):\n",
    "    txt = re.sub('[^a-zA-Z]', ' ', df['Text'][i])\n",
    "    txt = txt.lower()\n",
    "    txt = txt.split()\n",
    "    wl = WordNetLemmatizer()\n",
    "    txt = [wl.lemmatize(word) for word in txt if not word in set(stopwords.words('english'))]\n",
    "    txt = ' '.join(txt)\n",
    "    df['Text'][i] = txt\n",
    "new_df = df[df['Lang'] == 'en']\n",
    "new_df.drop_duplicates(inplace=True)"
   ]
  },
  {
   "cell_type": "code",
   "execution_count": null,
   "metadata": {},
   "outputs": [],
   "source": [
    "new_df.to_csv('../data/twitterData.csv', index=False)"
   ]
  }
 ],
 "metadata": {
  "kernelspec": {
   "display_name": "env",
   "language": "python",
   "name": "python3"
  },
  "language_info": {
   "codemirror_mode": {
    "name": "ipython",
    "version": 3
   },
   "file_extension": ".py",
   "mimetype": "text/x-python",
   "name": "python",
   "nbconvert_exporter": "python",
   "pygments_lexer": "ipython3",
   "version": "3.10.9"
  },
  "orig_nbformat": 4
 },
 "nbformat": 4,
 "nbformat_minor": 2
}
